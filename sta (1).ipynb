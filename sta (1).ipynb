{
 "cells": [
  {
   "cell_type": "code",
   "execution_count": 3,
   "id": "731c22e6",
   "metadata": {},
   "outputs": [
    {
     "data": {
      "text/plain": [
       "0.66667"
      ]
     },
     "execution_count": 3,
     "metadata": {},
     "output_type": "execute_result"
    }
   ],
   "source": [
    "import numpy as np\n",
    "\n",
    "all_door_options = (1, 2, 3)  # tuple\n",
    "my_door_choice = 1  # initial choice, will change during the simulation\n",
    "i_won = 0\n",
    "reps = 100000\n",
    "\n",
    "for i in range(reps):\n",
    "    secret_winning_door = np.random.choice(all_door_options)\n",
    "    all_door_options_list = list(all_door_options)\n",
    "    \n",
    "    # Remove the secret_winning_door from the list\n",
    "    all_door_options_list.remove(secret_winning_door)\n",
    "    \n",
    "    try:\n",
    "        # Remove my_door_choice if it's not already the winning door\n",
    "        all_door_options_list.remove(my_door_choice)\n",
    "    except ValueError:\n",
    "        pass\n",
    "    \n",
    "    # Reveal a goat door\n",
    "    goat_door_reveal = np.random.choice(all_door_options_list)\n",
    "    all_door_options_list.remove(goat_door_reveal)\n",
    "    \n",
    "    # Put back the secret_winning_door if it wasn't the original choice\n",
    "    if secret_winning_door != my_door_choice:\n",
    "        all_door_options_list.append(secret_winning_door)\n",
    "    \n",
    "    # Swap strategy\n",
    "    my_door_choice = all_door_options_list[0]\n",
    "    \n",
    "    if my_door_choice == secret_winning_door:\n",
    "        i_won += 1\n",
    "\n",
    "# Calculate win rate\n",
    "win_rate = i_won / reps\n",
    "win_rate\n"
   ]
  },
  {
   "cell_type": "code",
   "execution_count": null,
   "id": "aa34efc8",
   "metadata": {},
   "outputs": [],
   "source": [
    "import numpy as np\n",
    "\n",
    "all_door_options = (1, 2, 3)  # tuple\n",
    "my_door_choice = 1  # initial choice, will change during the simulation\n",
    "i_won = 0\n",
    "reps = 100000\n",
    "\n",
    "for i in range(reps):\n",
    "    secret_winning_door = np.random.choice(all_door_options)\n",
    "    all_door_options_list = list(all_door_options)\n",
    "    \n",
    "    # Remove the secret_winning_door from the list\n",
    "    all_door_options_list.remove(secret_winning_door)\n",
    "    \n",
    "    try:\n",
    "        # Remove my_door_choice if it's not already the winning door\n",
    "        all_door_options_list.remove(my_door_choice)\n",
    "    except ValueError:\n",
    "        pass\n",
    "    \n",
    "    # Reveal a goat door\n",
    "    goat_door_reveal = np.random.choice(all_door_options_list)\n",
    "    all_door_options_list.remove(goat_door_reveal)\n",
    "    \n",
    "    # Put back the secret_winning_door if it wasn't the original choice\n",
    "    if secret_winning_door != my_door_choice:\n",
    "        all_door_options_list.append(secret_winning_door)\n",
    "    \n",
    "    # Swap strategy\n",
    "    my_door_choice = all_door_options_list[0]\n",
    "    \n",
    "    if my_door_choice == secret_winning_door:\n",
    "        i_won += 1\n",
    "\n",
    "# Calculate win rate\n",
    "win_rate = i_won / reps\n",
    "win_rate\n"
   ]
  },
  {
   "cell_type": "code",
   "execution_count": null,
   "id": "5a77fef3",
   "metadata": {},
   "outputs": [],
   "source": [
    "import numpy as np\n",
    "\n",
    "# Set up parameters\n",
    "all_door_options = (1, 2, 3)  # Tuple of possible doors\n",
    "reps = 100000  # Number of repetitions for the simulation\n",
    "i_won = 0  # Counter for wins\n",
    "\n",
    "for _ in range(reps):\n",
    "    # Step 1: Host randomly selects the winning door\n",
    "    secret_winning_door = np.random.choice(all_door_options)\n",
    "    \n",
    "    # Step 2: You make an initial choice (always door 1 for simplicity)\n",
    "    my_door_choice = 1\n",
    "    \n",
    "    # Step 3: Host reveals a goat door that you didn't pick and isn't the winning door\n",
    "    remaining_doors = [door for door in all_door_options if door != secret_winning_door and door != my_door_choice]\n",
    "    goat_door_reveal = np.random.choice(remaining_doors)\n",
    "    \n",
    "    # Step 4: Swap to the remaining door\n",
    "    my_door_choice = [door for door in all_door_options if door != my_door_choice and door != goat_door_reveal][0]\n",
    "    \n",
    "    # Step 5: Check if the new choice is the winning door\n",
    "    if my_door_choice == secret_winning_door:\n",
    "        i_won += 1\n",
    "\n",
    "# Output the win percentage\n",
    "win_percentage = i_won / reps\n",
    "print(f\"Win percentage by swapping: {win_percentage * 100:.2f}%\")\n"
   ]
  },
  {
   "cell_type": "code",
   "execution_count": null,
   "id": "f83b010a",
   "metadata": {},
   "outputs": [],
   "source": [
    "# #  summaries of my current session   we focused on coding and explaining a simulation of the Monty Hall problem, specifically using the strategy where you swap doors after the host reveals a \"goat\" door. The code was written in a clear and explainable manner, with step-by-step comments to ensure better understanding. The final simulation demonstrated that swapping increases the chances of winning, with an approximate win rate of 66.74%, which aligns with the theoretical probability.\n",
    "\n",
    "# # chatbot link  https://chatgpt.com/share/66eb0d7c-77f8-8007-be16-81705959978c"
   ]
  },
  {
   "cell_type": "code",
   "execution_count": null,
   "id": "749bbfce",
   "metadata": {},
   "outputs": [],
   "source": [
    "from IPython.display import YouTubeVideo\n",
    "YouTubeVideo('56mGTszb_iM', width = 550)"
   ]
  },
  {
   "cell_type": "code",
   "execution_count": null,
   "id": "8dc9a405",
   "metadata": {},
   "outputs": [],
   "source": [
    "# Here's a summary of our interaction\n",
    "\n",
    "\n",
    "### **Objective:** wanted to create a \"Markovian ChatBot\" using Markov Chains for text generation and explore its application with a series of stories that include various characters.\n",
    "\n",
    "\n",
    "\n",
    "### **Key Points Discussed:**\n",
    "\n",
    "#1. Markov Chain Basics:A Markov chain models transitions between states (words) based on previous occurrences.We discussed how to build a chatbot using Markov Chains, which learns word-to-word transitions and generates text based on the learned patterns.\n",
    "\n",
    "#2. Initial Example: I provided an initial Python implementation of a Markovian chatbot that uses a text corpus to build a transition matrix (word mappings) and generate responses.The chatbot starts with a specified word and generates a sequence of words based on learned probabilities.\n",
    " \n",
    "#3. YouTube Video Mention:You referenced embedding a YouTube video with the ID `'56mGTszb_iM'`, and I provided a simple command using `IPython.display` to embed the video in a notebook environment.\n",
    "\n",
    "#4. Expanded Example with Stories:You requested using a series of stories with multiple characters to train the chatbot. The chatbot was then able to generate responses based on these stories, which could be extended to different characters or themes.\n",
    "\n",
    "#5. Markov Chain Implementation:The chatbot used a transition matrix (a dictionary where each word maps to a list of possible next words).The response generation process involved randomly selecting the next word based on the previously seen word, as per the Markov model.\n",
    "\n",
    "#6. Example Output:The chatbot generated sentences starting with a specified word (e.g., \"Arthur\") by continuing with the learned transitions from the stories.\n",
    "\n",
    "### **Code Provided:**\n",
    "#- **Markovian ChatBot Class:** A Python class that uses a Markov chain to learn word transitions from a text and generate new responses.\n",
    "#- **Example Dataset:** A series of stories with characters (Arthur, Drako, Elara, and Jack) to illustrate how the chatbot can be trained on different narratives.\n",
    "#- **Response Generation:** The chatbot generated responses by continuing from a specified starting word.\n",
    "\n",
    "\n"
   ]
  },
  {
   "cell_type": "code",
   "execution_count": null,
   "id": "ecf402b6",
   "metadata": {},
   "outputs": [],
   "source": [
    "# https://chatgpt.com/share/66eb187e-289c-8007-a592-b3d8aa9c7d9b"
   ]
  },
  {
   "cell_type": "code",
   "execution_count": null,
   "id": "00cf1e03",
   "metadata": {},
   "outputs": [],
   "source": [
    "# post_lecture HW"
   ]
  },
  {
   "cell_type": "code",
   "execution_count": null,
   "id": "4f8cdaf3",
   "metadata": {},
   "outputs": [],
   "source": [
    "# 6.1 I think the chatbot can do so quickly, somen qustions like the errors and the coding are helpful\n",
    "# 6.2 I think sometimes are frustrating sometims like the chatbot can not recognition the \n",
    "# 6.3 Overall, I think the chatbot are usefull because it has powerful knowledge base and quick reagency."
   ]
  },
  {
   "cell_type": "code",
   "execution_count": null,
   "id": "ee35136b",
   "metadata": {},
   "outputs": [],
   "source": [
    "# 7 refliction: I think my perception of the learining coding and statisic are change. At the past, I just think learining coding I have to recite a lot of codes,but nowadays I think I need to understand"
   ]
  },
  {
   "cell_type": "code",
   "execution_count": null,
   "id": "4fb2c1aa",
   "metadata": {},
   "outputs": [],
   "source": [
    "# 8.1 8.2 8.3 In this session, we discussed the relevance of several key skills in the modern world, particularly focusing on learning and adaptability, communication, coding, and statistics and data analysis. We then transitioned into a career exploration discussion, highlighting valuable skills for a career in statistics or data science beyond coding and data analysis:\n",
    "\n",
    "#Statistical Knowledge: Understanding statistical principles for data interpretation.\n",
    "#Critical Thinking: Analyzing information objectively to solve problems.\n",
    "#Domain Knowledge: Knowing the specific industry to contextualize data.\n",
    "#Communication Skills: Presenting findings clearly to various audiences.\n",
    "#Data Visualization: Representing data visually to convey insights effectively.\n",
    "#Problem-Solving: Tackling complex challenges creatively.\n",
    "#Collaboration and Teamwork: Working effectively across diverse teams.\n",
    "#Curiosity and Lifelong Learning: Staying updated with evolving methods and tools.\n"
   ]
  },
  {
   "cell_type": "code",
   "execution_count": null,
   "id": "c45c10ac",
   "metadata": {},
   "outputs": [],
   "source": [
    "# https://chatgpt.com/share/66eb33db-73bc-8007-b83e-4882c989c978"
   ]
  },
  {
   "cell_type": "code",
   "execution_count": null,
   "id": "30c4524d",
   "metadata": {},
   "outputs": [],
   "source": [
    "# 8.4 I think for my career. I need to progress my statisitical firstly as I think it is the foundation of the course. And I think I need to review the course and also research some indroduce video to close  to the course. "
   ]
  }
 ],
 "metadata": {
  "kernelspec": {
   "display_name": "Python 3 (ipykernel)",
   "language": "python",
   "name": "python3"
  },
  "language_info": {
   "codemirror_mode": {
    "name": "ipython",
    "version": 3
   },
   "file_extension": ".py",
   "mimetype": "text/x-python",
   "name": "python",
   "nbconvert_exporter": "python",
   "pygments_lexer": "ipython3",
   "version": "3.11.6"
  }
 },
 "nbformat": 4,
 "nbformat_minor": 5
}
